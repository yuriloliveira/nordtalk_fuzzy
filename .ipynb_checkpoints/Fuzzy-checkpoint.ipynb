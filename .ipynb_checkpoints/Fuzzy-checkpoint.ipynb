{
 "cells": [
  {
   "cell_type": "code",
   "execution_count": 1,
   "metadata": {},
   "outputs": [
    {
     "ename": "ModuleNotFoundError",
     "evalue": "No module named 'skfuzzy'",
     "output_type": "error",
     "traceback": [
      "\u001b[0;31m---------------------------------------------------------------------------\u001b[0m",
      "\u001b[0;31mModuleNotFoundError\u001b[0m                       Traceback (most recent call last)",
      "\u001b[0;32m<ipython-input-1-5b0f01155d7e>\u001b[0m in \u001b[0;36m<module>\u001b[0;34m\u001b[0m\n\u001b[1;32m      1\u001b[0m \u001b[0;32mimport\u001b[0m \u001b[0mnumpy\u001b[0m \u001b[0;32mas\u001b[0m \u001b[0mnp\u001b[0m\u001b[0;34m\u001b[0m\u001b[0;34m\u001b[0m\u001b[0m\n\u001b[0;32m----> 2\u001b[0;31m \u001b[0;32mimport\u001b[0m \u001b[0mskfuzzy\u001b[0m \u001b[0;32mas\u001b[0m \u001b[0mfuzz\u001b[0m\u001b[0;34m\u001b[0m\u001b[0;34m\u001b[0m\u001b[0m\n\u001b[0m\u001b[1;32m      3\u001b[0m \u001b[0;32mfrom\u001b[0m \u001b[0mskfuzzy\u001b[0m \u001b[0;32mimport\u001b[0m \u001b[0mcontrol\u001b[0m \u001b[0;32mas\u001b[0m \u001b[0mctrl\u001b[0m\u001b[0;34m\u001b[0m\u001b[0;34m\u001b[0m\u001b[0m\n\u001b[1;32m      4\u001b[0m \u001b[0;34m\u001b[0m\u001b[0m\n\u001b[1;32m      5\u001b[0m \u001b[0;31m# New Antecedent/Consequent objects hold universe variables and membership\u001b[0m\u001b[0;34m\u001b[0m\u001b[0;34m\u001b[0m\u001b[0;34m\u001b[0m\u001b[0m\n",
      "\u001b[0;31mModuleNotFoundError\u001b[0m: No module named 'skfuzzy'"
     ]
    }
   ],
   "source": [
    "import numpy as np\n",
    "import skfuzzy as fuzz\n",
    "from skfuzzy import control as ctrl\n",
    "\n",
    "# New Antecedent/Consequent objects hold universe variables and membership\n",
    "# functions\n",
    "comfortable = ctrl.Antecedent(np.arange(0, 11, 1), 'comfortable')\n",
    "convenient = ctrl.Antecedent(np.arange(0, 11, 1), 'convenient')\n",
    "price = ctrl.Consequent(np.arange(0, 101, 1), 'price')\n",
    "\n",
    "comfortable.automf(names=['low', 'medium', 'high'])\n",
    "convenient.automf(names=['low', 'medium', 'high'])\n",
    "\n",
    "# Custom membership functions can be built interactively with a familiar,\n",
    "# Pythonic API\n",
    "price['cheap'] = fuzz.trimf(price.universe, [0, 0, 25])\n",
    "price['medium'] = fuzz.trimf(price.universe, [20, 50, 75])\n",
    "price['expensive'] = fuzz.trimf(price.universe, [70, 100, 100])"
   ]
  },
  {
   "cell_type": "code",
   "execution_count": null,
   "metadata": {},
   "outputs": [],
   "source": [
    "comfortable.view()\n",
    "convenient.view()\n",
    "price.view()"
   ]
  },
  {
   "cell_type": "code",
   "execution_count": null,
   "metadata": {},
   "outputs": [],
   "source": [
    "rule1 = ctrl.Rule(comfortable['low'] | convenient['low'], price['cheap'])\n",
    "rule2 = ctrl.Rule(comfortable['medium'] | convenient['medium'], price['medium'])\n",
    "rule3 = ctrl.Rule(convenient['high'] & comfortable['high'], price['expensive'])"
   ]
  },
  {
   "cell_type": "code",
   "execution_count": null,
   "metadata": {},
   "outputs": [],
   "source": [
    "tipping_ctrl = ctrl.ControlSystem([rule1, rule2, rule3])\n",
    "tipping = ctrl.ControlSystemSimulation(tipping_ctrl)\n",
    "tipping.input['comfortable'] = 10\n",
    "tipping.input['convenient'] = 10"
   ]
  },
  {
   "cell_type": "code",
   "execution_count": null,
   "metadata": {},
   "outputs": [],
   "source": [
    "tipping.compute()"
   ]
  },
  {
   "cell_type": "code",
   "execution_count": null,
   "metadata": {},
   "outputs": [],
   "source": [
    "print(tipping.output['price'])\n",
    "price.view(sim=tipping)"
   ]
  },
  {
   "cell_type": "code",
   "execution_count": null,
   "metadata": {},
   "outputs": [],
   "source": []
  }
 ],
 "metadata": {
  "kernelspec": {
   "display_name": "Python 3",
   "language": "python",
   "name": "python3"
  },
  "language_info": {
   "codemirror_mode": {
    "name": "ipython",
    "version": 3
   },
   "file_extension": ".py",
   "mimetype": "text/x-python",
   "name": "python",
   "nbconvert_exporter": "python",
   "pygments_lexer": "ipython3",
   "version": "3.8.4"
  }
 },
 "nbformat": 4,
 "nbformat_minor": 4
}
